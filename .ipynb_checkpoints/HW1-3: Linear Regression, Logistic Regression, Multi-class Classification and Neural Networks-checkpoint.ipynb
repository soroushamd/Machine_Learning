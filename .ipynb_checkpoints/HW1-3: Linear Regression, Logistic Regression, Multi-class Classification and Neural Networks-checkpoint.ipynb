{
 "cells": [
  {
   "cell_type": "markdown",
   "metadata": {
    "nbpresent": {
     "id": "eb51d93e-8113-4531-b387-a144c0855c5d"
    },
    "slideshow": {
     "slide_type": "slide"
    }
   },
   "source": [
    "## HW1-3: Linear Regression, Logistic Regression, Multi-class Classi\f",
    "cation and Neural Networks"
   ]
  },
  {
   "cell_type": "code",
   "execution_count": 1,
   "metadata": {},
   "outputs": [],
   "source": [
    "import numpy as np\n",
    "import matplotlib.pyplot as plt\n",
    "%matplotlib inline\n",
    "# import seaborn as sns\n",
    "import pandas as pd\n",
    "# sns.set_context('talk')\n",
    "# sns.set_style('white')"
   ]
  },
  {
   "cell_type": "code",
   "execution_count": 7,
   "metadata": {},
   "outputs": [
    {
     "data": {
      "text/plain": [
       "Text(0,0.5,'$y$')"
      ]
     },
     "execution_count": 7,
     "metadata": {},
     "output_type": "execute_result"
    },
    {
     "data": {
      "image/png": "[encoded data removed]",
      "text/plain": [
       "<Figure size 432x288 with 1 Axes>"
      ]
     },
     "metadata": {},
     "output_type": "display_data"
    }
   ],
   "source": [
    "# data = np.loadtxt('data/motor.dat') \n",
    "# X = data[:, 0][:, None]\n",
    "# Y = data[:, 1]\n",
    "# fig, ax = plt.subplots()\n",
    "# ax.plot(X, Y, 'x', markeredgewidth=2)\n",
    "# ax.set_xlabel('$x$')\n",
    "# ax.set_ylabel('$y$')\n",
    "\n",
    "data = pd.read_csv('data/ex1data1.txt', sep=',',header=None).values\n",
    "# data.values\n",
    "X = data[:, 0][:, None]\n",
    "Y = data[:, 1]\n",
    "fig, ax = plt.subplots()\n",
    "ax.plot(X, Y, 'x', markeredgewidth=2)\n",
    "ax.set_xlabel('$x$')\n",
    "ax.set_ylabel('$y$')"
   ]
  },
  {
   "cell_type": "code",
   "execution_count": 8,
   "metadata": {
    "nbpresent": {
     "id": "f0d6dfc3-f56b-4e37-912f-5223121d4e5f"
    },
    "slideshow": {
     "slide_type": "slide"
    }
   },
   "outputs": [],
   "source": [
    "# Implementation of the basis functions\n",
    "class LinearBasis(object):\n",
    "    \"\"\"\n",
    "    Represents a 1D linear basis.\n",
    "    \"\"\"\n",
    "    def __init__(self):\n",
    "        self.num_basis = 2 # The number of basis functions\n",
    "    def __call__(self, x):\n",
    "        \"\"\"\n",
    "        ``x`` should be a 1D array.\n",
    "        \"\"\"\n",
    "        return [1., x[0]]"
   ]
  },
  {
   "cell_type": "code",
   "execution_count": 9,
   "metadata": {},
   "outputs": [],
   "source": [
    "class LinearBasisMulti(object):\n",
    "    \"\"\"\n",
    "    Represents a 1D linear basis, multi-feature\n",
    "    \"\"\"\n",
    "    def __init__(self, x):\n",
    "        self.num_basis = 1+x # The number of basis functions\n",
    "    def __call__(self, x):\n",
    "        \"\"\"\n",
    "        ``x`` can be a nd array.\n",
    "        \"\"\"\n",
    "#         return np.append(np.ones(x.shape[0])[:,None], np.array(x), axis=1)\n",
    "        return np.append(1, x)"
   ]
  },
  {
   "cell_type": "code",
   "execution_count": 10,
   "metadata": {
    "nbpresent": {
     "id": "eeac469a-7828-4ce3-84ff-cf4a4be0bc56"
    },
    "slideshow": {
     "slide_type": "slide"
    }
   },
   "outputs": [],
   "source": [
    "# This can be used as a function, for example:\n",
    "phi = LinearBasis()\n",
    "# print phi([4.])    # The input has to be an array"
   ]
  },
  {
   "cell_type": "code",
   "execution_count": 11,
   "metadata": {
    "nbpresent": {
     "id": "c3a1d5e4-8e87-45e0-8308-2de2e55c620e"
    },
    "slideshow": {
     "slide_type": "slide"
    }
   },
   "outputs": [],
   "source": [
    "# We need a generic function that computes the design matrix\n",
    "def compute_design_matrix(X, phi):\n",
    "    \"\"\"\n",
    "    Arguments:\n",
    "    \n",
    "    X   -  The observed inputs (1D array)\n",
    "    phi -  The basis functions.\n",
    "    \"\"\"\n",
    "    num_observations = X.shape[0]\n",
    "    num_basis = phi.num_basis\n",
    "    Phi = np.ndarray((num_observations, num_basis))\n",
    "    \n",
    "## can be vectorized by\n",
    "## return np.append(np.ones(x.shape[0])[:,None], np.array(x), axis=1)\n",
    "\n",
    "    for i in xrange(num_observations):\n",
    "        Phi[i, :] = phi(X[i, :])\n",
    "    return Phi"
   ]
  },
  {
   "cell_type": "code",
   "execution_count": 29,
   "metadata": {
    "nbpresent": {
     "id": "21c0c887-647c-4608-8b8c-c13e9f53336f"
    },
    "slideshow": {
     "slide_type": "slide"
    }
   },
   "outputs": [
    {
     "name": "stdout",
     "output_type": "stream",
     "text": [
      "w_LS parameters: [-3.89578088  1.19303364]\n"
     ]
    }
   ],
   "source": [
    "Phi = compute_design_matrix(X, phi)\n",
    "# print 'Phi:'\n",
    "# print Phi[:5, :]\n",
    "\n",
    "# Ready to do least squares (using Normal Eq.):\n",
    "# We then compare our gradient decent with Normal Eq. results\n",
    "w_LS = np.linalg.lstsq(Phi, Y)[0]\n",
    "print 'w_LS parameters:', w_LS"
   ]
  },
  {
   "cell_type": "code",
   "execution_count": 14,
   "metadata": {},
   "outputs": [],
   "source": [
    "def cost_function(w, Phi, Y):\n",
    "    \"\"\"\n",
    "    Arguments:\n",
    "    \n",
    "    Y   -  The observed output (1D array)\n",
    "    w   -  The model parameter\n",
    "    Phi -  The basis functions.\n",
    "    \"\"\"\n",
    "    num_observations = Y.shape[0]\n",
    "    return 1./(2.*num_observations) * np.sum((np.dot(Phi,w)-Y)**2.)"
   ]
  },
  {
   "cell_type": "code",
   "execution_count": 15,
   "metadata": {},
   "outputs": [],
   "source": [
    "def gradient_decent(w, Phi, Y, alpha):\n",
    "    \"\"\"\n",
    "    Arguments:\n",
    "    \n",
    "    Y   -  The observed output (1D array)\n",
    "    w   -  The model parameter\n",
    "    Phi -  The basis functions\n",
    "    alpha - The learning rate\n",
    "    \"\"\"    \n",
    "    num_observations = Y.shape[0]\n",
    "#     print np.sum((np.dot(Phi,w)-Y).reshape(num_observations,1)*Phi[:,0], axis=0)\n",
    "#     print alpha/num_observations\n",
    "#     print Phi[:,0]\n",
    "#     w[0] = w[0] - alpha/num_observations * np.sum((np.dot(Phi,w)-Y).reshape(num_observations,1)*Phi[:,0])\n",
    "    w[:] = w[:] - alpha/num_observations * np.sum((np.dot(Phi,w)-Y).reshape(num_observations,1)*Phi, axis=0)\n",
    "    return w"
   ]
  },
  {
   "cell_type": "code",
   "execution_count": 27,
   "metadata": {},
   "outputs": [
    {
     "name": "stdout",
     "output_type": "stream",
     "text": [
      "these two number must be almost equal, one from gradient decent (left) and one by solving Normal Eq. (right)\n",
      "[-3.87805118  1.1912525 ] [-3.89578088  1.19303364]\n",
      "4.47699999352 4.47697137598\n"
     ]
    },
    {
     "data": {
      "text/plain": [
       "[<matplotlib.lines.Line2D at 0x117d2bd90>]"
      ]
     },
     "execution_count": 27,
     "metadata": {},
     "output_type": "execute_result"
    },
    {
     "data": {
      "image/png": "[encoded data removed]",
      "text/plain": [
       "<Figure size 432x288 with 1 Axes>"
      ]
     },
     "metadata": {},
     "output_type": "display_data"
    }
   ],
   "source": [
    "w = np.zeros(2)\n",
    "Phi = compute_design_matrix(X, phi)\n",
    "num_iter = 3000\n",
    "cost = np.zeros(num_iter)\n",
    "for i in xrange(num_iter):\n",
    "    w = gradient_decent(w, Phi, Y, 0.01)\n",
    "    cost[i] = cost_function(w, Phi, Y)\n",
    "    \n",
    "print \"these two number must be almost equal, one from gradient decent (left) and one by solving Normal Eq. (right)\"\n",
    "print w, w_LS\n",
    "print cost_function(w, Phi, Y), cost_function(w_LS, Phi, Y)\n",
    "\n",
    "plt.plot(cost)"
   ]
  },
  {
   "cell_type": "code",
   "execution_count": 17,
   "metadata": {},
   "outputs": [
    {
     "data": {
      "text/plain": [
       "<matplotlib.legend.Legend at 0x116596d10>"
      ]
     },
     "execution_count": 17,
     "metadata": {},
     "output_type": "execute_result"
    },
    {
     "data": {
      "image/png": "[encoded data removed]",
      "text/plain": [
       "<Figure size 432x288 with 1 Axes>"
      ]
     },
     "metadata": {},
     "output_type": "display_data"
    }
   ],
   "source": [
    "# Let's plot the result on these points:\n",
    "# X_p = np.linspace(0, 60, 100)[:, None]\n",
    "Phi = compute_design_matrix(X, phi)\n",
    "Y_p = np.dot(Phi, w_LS)\n",
    "fig, ax = plt.subplots()\n",
    "ax.plot(X, Y, 'x', markeredgewidth=2, label='Observations')\n",
    "ax.plot(X, Y_p, label='LS Prediction (Linear Basis)')\n",
    "ax.set_xlabel('$x$')\n",
    "ax.set_ylabel('$y$')\n",
    "plt.legend(loc='best')"
   ]
  },
  {
   "cell_type": "markdown",
   "metadata": {},
   "source": [
    "# Logistic regression"
   ]
  },
  {
   "cell_type": "code",
   "execution_count": 30,
   "metadata": {},
   "outputs": [
    {
     "data": {
      "text/plain": [
       "Text(0,0.5,'$y$')"
      ]
     },
     "execution_count": 30,
     "metadata": {},
     "output_type": "execute_result"
    },
    {
     "data": {
      "image/png": "[encoded data removed]",
      "text/plain": [
       "<Figure size 432x288 with 1 Axes>"
      ]
     },
     "metadata": {},
     "output_type": "display_data"
    }
   ],
   "source": [
    "data = pd.read_csv('data/ex2data1.txt', sep=',',header=None).values\n",
    "# data.values\n",
    "X1 = data[:, 0][:, None]\n",
    "X2 = data[:, 1][:, None]\n",
    "Y  = data[:, 2][:, None]\n",
    "\n",
    "fig, ax = plt.subplots()\n",
    "# ax.plot(X, Y, 'x', markeredgewidth=2)\n",
    "plt.scatter(X1, X2, c=Y)#, cmap=plt.cm.autumn)\n",
    "ax.set_xlabel('$x$')\n",
    "ax.set_ylabel('$y$')"
   ]
  },
  {
   "cell_type": "code",
   "execution_count": 31,
   "metadata": {},
   "outputs": [],
   "source": [
    "sigmoid = lambda x: 1./(1+np.exp(-x))\n",
    "\n",
    "def cost_function_logistic_regularized(w, Phi, Y, lambda_):\n",
    "    \"\"\"\n",
    "    Arguments:\n",
    "    \n",
    "    Y       -  The observed output (1D array)\n",
    "    w       -  The model parameter\n",
    "    Phi     -  The basis functions\n",
    "    lambda_ -  The regularization parameter\n",
    "    \"\"\"\n",
    "    num_observations = Y.shape[0]\n",
    "    \n",
    "    return 1./num_observations * np.sum(-Y*np.log(sigmoid(np.dot(Phi,w)))-(1.-Y)*np.log(1.-sigmoid(np.dot(Phi,w)))) + lambda_/(2.*num_observations) * np.sum(w[1:]**2.)   "
   ]
  },
  {
   "cell_type": "code",
   "execution_count": 32,
   "metadata": {},
   "outputs": [],
   "source": [
    "def gradient_decent_logistic_regularized(w, Phi, Y, alpha, lambda_):\n",
    "    \"\"\"\n",
    "    Arguments:\n",
    "    \n",
    "    Y       -  The observed output (1D array)\n",
    "    w       -  The model parameter\n",
    "    Phi     -  The basis functions\n",
    "    alpha   -  The learning rate\n",
    "    lambda_ -  The regularization parameter\n",
    "    \"\"\"    \n",
    "    num_observations = Y.shape[0]\n",
    "#     print np.sum((np.dot(Phi,w)-Y).reshape(num_observations,1)*Phi[:,0], axis=0)\n",
    "#     print Phi.shape, Y.shape\n",
    "    w[:] = w[:] - alpha/num_observations * np.sum((sigmoid(np.dot(Phi,w))-Y).reshape(num_observations,1)*Phi[:,:], axis=0)\n",
    "    w[1:] = w[1:] - alpha*lambda_/num_observations*w[1:] \n",
    "    return w"
   ]
  },
  {
   "cell_type": "code",
   "execution_count": 35,
   "metadata": {},
   "outputs": [
    {
     "name": "stdout",
     "output_type": "stream",
     "text": [
      "[  1.          34.62365962  78.02469282] 3\n"
     ]
    },
    {
     "data": {
      "text/plain": [
       "(100, 3)"
      ]
     },
     "execution_count": 35,
     "metadata": {},
     "output_type": "execute_result"
    }
   ],
   "source": [
    "X = np.append(X1,X2, axis=1)\n",
    "phi = LinearBasisMulti(X.shape[1])\n",
    "# print X.shape\n",
    "print phi(X[0,:]), phi.num_basis\n",
    "Phi = compute_design_matrix(X, phi)\n",
    "# print Phi.shape"
   ]
  },
  {
   "cell_type": "code",
   "execution_count": 36,
   "metadata": {},
   "outputs": [
    {
     "name": "stdout",
     "output_type": "stream",
     "text": [
      "[ 0.0001      0.01200922  0.01126284]\n"
     ]
    }
   ],
   "source": [
    "# print cost_function_logistic_regularized(np.zeros(3), Phi, Y[:,0], 1)\n",
    "# print gradient_decent_logistic_regularized(np.zeros(3), Phi, Y[:,0], 0.001, 0.)"
   ]
  },
  {
   "cell_type": "code",
   "execution_count": 46,
   "metadata": {},
   "outputs": [
    {
     "name": "stdout",
     "output_type": "stream",
     "text": [
      "(100, 3)\n",
      "[-11.74749157   0.09927308   0.09316497]\n",
      "0.252170037031\n"
     ]
    },
    {
     "data": {
      "image/png": "[encoded data removed]",
      "text/plain": [
       "<Figure size 432x288 with 1 Axes>"
      ]
     },
     "metadata": {},
     "output_type": "display_data"
    }
   ],
   "source": [
    "w = np.zeros(3)\n",
    "# w = 0.01*np.random.rand(3)\n",
    "# print w\n",
    "Phi = compute_design_matrix(X[:,:], phi)\n",
    "print Phi.shape\n",
    "num_iter = 500000\n",
    "cost = np.zeros(num_iter)\n",
    "for i in xrange(num_iter):\n",
    "    w = gradient_decent_logistic_regularized(w, Phi[:,:], Y[:,0], 0.001, 0)\n",
    "    cost[i] = cost_function_logistic_regularized(w, Phi, Y[:,0], 0)\n",
    "\n",
    "plt.plot(cost)\n",
    "\n",
    "print w\n",
    "print cost[-1]\n",
    "# sigmoid(np.dot(phi([45, 85]),w))"
   ]
  },
  {
   "cell_type": "code",
   "execution_count": 47,
   "metadata": {},
   "outputs": [
    {
     "name": "stdout",
     "output_type": "stream",
     "text": [
      "(100, 3)\n",
      "Optimization terminated successfully.\n",
      "         Current function value: 0.203498\n",
      "         Iterations: 157\n",
      "         Function evaluations: 287\n",
      "[-25.16130062   0.20623142   0.20147143] 0.20349770159\n"
     ]
    },
    {
     "data": {
      "text/plain": [
       "0.77629159041124107"
      ]
     },
     "execution_count": 47,
     "metadata": {},
     "output_type": "execute_result"
    }
   ],
   "source": [
    "from scipy import optimize\n",
    "w = np.zeros(3)\n",
    "X = np.append(X1,X2, axis=1)\n",
    "Phi = compute_design_matrix(X[:,:], phi)\n",
    "print Phi.shape\n",
    "\n",
    "# result = optimize.fmin(cost_function_logistic_regularized, x0=np.zeros(3), args=(Phi, Y[:,0], 0), maxiter=1000, full_output=True)\n",
    "# w = result[0]\n",
    "# print w, result[1]\n",
    "\n",
    "result = optimize.minimize(cost_function_logistic_regularized, x0=np.zeros(3), args=(Phi, Y[:,0], 0), method='Nelder-Mead', options={\"maxiter\":500, \"disp\":True} )\n",
    "w = result.x\n",
    "print w, result.fun\n",
    "\n",
    "sigmoid(np.dot(phi([45, 85]),w))"
   ]
  },
  {
   "cell_type": "code",
   "execution_count": 48,
   "metadata": {},
   "outputs": [
    {
     "data": {
      "text/plain": [
       "(0, 120)"
      ]
     },
     "execution_count": 48,
     "metadata": {},
     "output_type": "execute_result"
    },
    {
     "data": {
      "image/png": "[encoded data removed]",
      "text/plain": [
       "<Figure size 432x288 with 1 Axes>"
      ]
     },
     "metadata": {},
     "output_type": "display_data"
    }
   ],
   "source": [
    "x1 = np.linspace(30,100,100)\n",
    "x2 = -w[0]/w[2] -w[1]/w[2] * x1\n",
    "\n",
    "plt.scatter(X1, X2, c=Y)#, cmap=plt.cm.autumn)\n",
    "plt.plot(x1,x2)\n",
    "plt.ylim(0,120)"
   ]
  },
  {
   "cell_type": "code",
   "execution_count": 50,
   "metadata": {},
   "outputs": [
    {
     "data": {
      "text/plain": [
       "Text(0,0.5,'$y$')"
      ]
     },
     "execution_count": 50,
     "metadata": {},
     "output_type": "execute_result"
    },
    {
     "data": {
      "image/png": "[encoded data removed]",
      "text/plain": [
       "<Figure size 432x288 with 1 Axes>"
      ]
     },
     "metadata": {},
     "output_type": "display_data"
    }
   ],
   "source": [
    "data = pd.read_csv('data/ex2data2.txt', sep=',',header=None).values\n",
    "# data.values\n",
    "X1 = data[:, 0][:, None]\n",
    "X2 = data[:, 1][:, None]\n",
    "Y  = data[:, 2][:, None]\n",
    "\n",
    "fig, ax = plt.subplots()\n",
    "# ax.plot(X, Y, 'x', markeredgewidth=2)\n",
    "plt.scatter(X1, X2, c=Y)#, cmap=plt.cm.autumn)\n",
    "ax.set_xlabel('$x$')\n",
    "ax.set_ylabel('$y$')"
   ]
  },
  {
   "cell_type": "code",
   "execution_count": 52,
   "metadata": {},
   "outputs": [
    {
     "name": "stdout",
     "output_type": "stream",
     "text": [
      "(118, 28)\n",
      "[ 1.14354936  0.5385924   1.07589427 -1.82510437 -0.75715424 -1.17922594\n",
      "  0.07819702 -0.31722517 -0.31684905 -0.18650795 -1.35136141 -0.06606151\n",
      " -0.54497102 -0.22112317 -1.09494336 -0.24563844 -0.19010095 -0.06098355\n",
      " -0.24138492 -0.24834429 -0.50070998 -0.97870398  0.00555854 -0.26525467\n",
      "  0.00194418 -0.2920077  -0.11129147 -0.92496155] 0.530361538536\n"
     ]
    },
    {
     "data": {
      "image/png": "[encoded data removed]",
      "text/plain": [
       "<Figure size 432x288 with 1 Axes>"
      ]
     },
     "metadata": {},
     "output_type": "display_data"
    }
   ],
   "source": [
    "from sklearn.preprocessing import PolynomialFeatures\n",
    "\n",
    "X = np.append(X1,X2, axis=1)\n",
    "lambda_ = 1.\n",
    "poly = PolynomialFeatures(6)\n",
    "Phi = poly.fit_transform(X)\n",
    "w = np.zeros(Phi.shape[1])\n",
    "print Phi.shape\n",
    "num_iter = 150000\n",
    "cost = np.zeros(num_iter)\n",
    "for i in xrange(num_iter):\n",
    "    w = gradient_decent_logistic_regularized(w, Phi[:,:], Y[:,0], 0.001, lambda_)\n",
    "    cost[i] = cost_function_logistic_regularized(w, Phi, Y[:,0], lambda_)\n",
    "\n",
    "plt.plot(cost)\n",
    "print w, cost[-1]"
   ]
  },
  {
   "cell_type": "code",
   "execution_count": 53,
   "metadata": {},
   "outputs": [],
   "source": [
    "### our gradient decent is quite slow, lets create a gradient function of cost function to be used in more advance \n",
    "### fmin_cg algorithm \n",
    "def gradient(w, Phi, Y, lambda_):\n",
    "    \"\"\"\n",
    "    Arguments:\n",
    "    \n",
    "    Y       -  The observed output (1D array)\n",
    "    w       -  The model parameter\n",
    "    Phi     -  The basis functions\n",
    "    lambda_ -  The regularization parameter\n",
    "    \"\"\"    \n",
    "    num_observations = Y.shape[0]\n",
    "    grad = np.zeros(Phi.shape[1])\n",
    "#     print Phi.shape, w.shape\n",
    "    grad[:] = 1./num_observations * np.sum((sigmoid(np.dot(Phi,w))-Y).reshape(num_observations,1)*Phi[:,:], axis=0)\n",
    "    grad[1:] = grad[1:] + lambda_/num_observations*grad[1:]\n",
    "    return grad"
   ]
  },
  {
   "cell_type": "code",
   "execution_count": 55,
   "metadata": {},
   "outputs": [
    {
     "name": "stdout",
     "output_type": "stream",
     "text": [
      "(118, 28)\n",
      "Warning: Desired error not necessarily achieved due to precision loss.\n",
      "         Current function value: 0.603963\n",
      "         Iterations: 2\n",
      "         Function evaluations: 51\n",
      "         Gradient evaluations: 40\n"
     ]
    }
   ],
   "source": [
    "from scipy import optimize\n",
    "# X = np.append(X1,X2, axis=1)\n",
    "# poly = PolynomialFeatures(6)\n",
    "# Phi = poly.fit_transform(X)\n",
    "# print Phi.shape\n",
    "\n",
    "# result = optimize.minimize(cost_function_logistic_regularized, x0=np.zeros(Phi.shape[1]), args=(Phi, Y[:,0], 10.), method='BFGS', options={\"maxiter\":1000, \"disp\":True} )\n",
    "# w = result.x\n",
    "# # print w, result.fun\n",
    "\n",
    "X = np.append(X1,X2, axis=1)\n",
    "poly = PolynomialFeatures(6)\n",
    "Phi = poly.fit_transform(X)\n",
    "print Phi.shape\n",
    "x0 = np.zeros(Phi.shape[1])\n",
    "result = optimize.fmin_cg(cost_function_logistic_regularized, fprime=gradient, x0=x0, \\\n",
    "                        args=(Phi, Y[:,0], 1.), maxiter=1000, disp=True,\\\n",
    "                        full_output=True)"
   ]
  },
  {
   "cell_type": "code",
   "execution_count": 56,
   "metadata": {},
   "outputs": [
    {
     "name": "stdout",
     "output_type": "stream",
     "text": [
      "(100, 100)\n",
      "(10000, 2)\n"
     ]
    },
    {
     "data": {
      "text/plain": [
       "<matplotlib.collections.PathCollection at 0x1a20566610>"
      ]
     },
     "execution_count": 56,
     "metadata": {},
     "output_type": "execute_result"
    },
    {
     "data": {
      "image/png": "[encoded data removed]",
      "text/plain": [
       "<Figure size 432x288 with 1 Axes>"
      ]
     },
     "metadata": {},
     "output_type": "display_data"
    }
   ],
   "source": [
    "x1 = np.linspace(-1,1.,100)\n",
    "x2 = np.linspace(-1,1.,100)\n",
    "xx, yy = np.meshgrid(x1,x2)\n",
    "print xx.shape\n",
    "xx_ = xx.flatten()\n",
    "yy_ = yy.flatten()\n",
    "\n",
    "xxyy = np.array([xx_, yy_]).T\n",
    "print xxyy.shape\n",
    "Phi = poly.fit_transform(xxyy)\n",
    "predicted = sigmoid(np.dot(Phi,w))\n",
    "\n",
    "predicted = predicted.reshape(100,100)\n",
    "\n",
    "CS = plt.contour(x1,x2,predicted, levels=0.5)\n",
    "plt.scatter(X1, X2, c=Y)#, cmap=plt.cm.autumn)\n",
    "# plt.legend()"
   ]
  },
  {
   "cell_type": "markdown",
   "metadata": {},
   "source": [
    "# Multi-class"
   ]
  },
  {
   "cell_type": "code",
   "execution_count": 57,
   "metadata": {},
   "outputs": [
    {
     "name": "stdout",
     "output_type": "stream",
     "text": [
      "(5000, 400) (5000, 1)\n"
     ]
    }
   ],
   "source": [
    "import scipy.io as sio\n",
    "data = sio.loadmat('data/ex3data1.mat')\n",
    "# print data\n",
    "X = data['X']\n",
    "Y = data['y']\n",
    "\n",
    "print X.shape, Y.shape"
   ]
  },
  {
   "cell_type": "code",
   "execution_count": 58,
   "metadata": {},
   "outputs": [
    {
     "name": "stdout",
     "output_type": "stream",
     "text": [
      "[10]\n"
     ]
    },
    {
     "data": {
      "text/plain": [
       "<matplotlib.image.AxesImage at 0x118714890>"
      ]
     },
     "execution_count": 58,
     "metadata": {},
     "output_type": "execute_result"
    },
    {
     "data": {
      "image/png": "[encoded data removed]",
      "text/plain": [
       "<Figure size 432x288 with 1 Axes>"
      ]
     },
     "metadata": {},
     "output_type": "display_data"
    }
   ],
   "source": [
    "a = X[499,:].reshape(20,20, order='F')\n",
    "print Y[499]\n",
    "plt.imshow(a)"
   ]
  },
  {
   "cell_type": "code",
   "execution_count": 59,
   "metadata": {},
   "outputs": [
    {
     "name": "stdout",
     "output_type": "stream",
     "text": [
      "(5000,)\n",
      "(5000, 401)\n"
     ]
    }
   ],
   "source": [
    "k = 10\n",
    "Y_ = np.zeros((5000,k))\n",
    "for i in xrange(k):\n",
    "    Y_[i*500:(i+1)*500,i] = 1.\n",
    "\n",
    "w = np.zeros((k,X.shape[1]+1))\n",
    "\n",
    "print Y_[:,0].shape\n",
    "phi = LinearBasisMulti(X.shape[1])\n",
    "# print len(X[0,:])\n",
    "# print phi(X[0,:]), phi.num_basis\n",
    "Phi = compute_design_matrix(X[:,:], phi)\n",
    "print Phi.shape"
   ]
  },
  {
   "cell_type": "code",
   "execution_count": 60,
   "metadata": {},
   "outputs": [],
   "source": [
    "def myOptimize1(num_iter, alpha, j):\n",
    "    \"\"\"\n",
    "    This is using simple gradient decent, quite slow\n",
    "    \"\"\" \n",
    "    cost = np.zeros(num_iter)\n",
    "    for i in xrange(num_iter):\n",
    "        cost[i] = cost_function_logistic_regularized(w[j,:], Phi, Y_[:,j], 0)\n",
    "        w[j,:] = gradient_decent_logistic_regularized(w[j,:], Phi, Y_[:,j], alpha, 0)\n",
    "        if (i%10==0):\n",
    "            print i, cost[i]\n",
    "    print \"final cost = \", cost[-1]\n",
    "    plt.plot(cost)\n",
    "    return \n",
    "\n",
    "def myOptimize2(num_iter, i):\n",
    "    \"\"\"\n",
    "    This is using fmin_cg from python, much faster\n",
    "    \"\"\" \n",
    "    x0 = np.zeros(Phi.shape[1])\n",
    "    result = optimize.fmin_cg(cost_function_logistic_regularized, fprime=gradient, x0=x0, \\\n",
    "                              args=(Phi, Y_[:,i], 0.), maxiter=num_iter, disp=False,\\\n",
    "                              full_output=True)\n",
    "    print result[1]\n",
    "    return result[0]"
   ]
  },
  {
   "cell_type": "code",
   "execution_count": 61,
   "metadata": {},
   "outputs": [
    {
     "name": "stdout",
     "output_type": "stream",
     "text": [
      "class =  0 , final res is\n",
      "0.0020414330921\n",
      "class =  1 , final res is\n",
      "0.00184330109941\n",
      "class =  2 , final res is\n",
      "0.0506664768829\n",
      "class =  3 , final res is\n",
      "0.0575899112669\n",
      "class =  4 , final res is\n",
      "0.0273802667712\n",
      "class =  5 , final res is\n",
      "0.0520084335813\n",
      "class =  6 , final res is\n",
      "0.00463781171799\n",
      "class =  7 , final res is\n",
      "0.0215366275401\n",
      "class =  8 , final res is\n",
      "0.0796149824512\n",
      "class =  9 , final res is\n",
      "0.0677496394521\n"
     ]
    }
   ],
   "source": [
    "for i in xrange(k):\n",
    "    print \"class = \", i, \", final res is\"\n",
    "    w[i,:] = myOptimize2(80,i)\n",
    "    \n",
    "# for i in xrange(1):\n",
    "#     print \"class = \", i\n",
    "#     myOptimize1(10000,0.001,i)"
   ]
  },
  {
   "cell_type": "code",
   "execution_count": 62,
   "metadata": {},
   "outputs": [
    {
     "name": "stdout",
     "output_type": "stream",
     "text": [
      "Accuracy is 0.964\n"
     ]
    }
   ],
   "source": [
    "### calculating accuracy\n",
    "wrong_tot = 0\n",
    "a = np.zeros((5000,k))\n",
    "for i in xrange(k):\n",
    "    a[:,i] = sigmoid(np.dot(Phi[:,:],w[i,:]))\n",
    "for i in xrange(0,5000):\n",
    "    index = np.floor(i/500)\n",
    "    c = np.argmax(a[i,:])\n",
    "    if (int(c) is not int(index)):\n",
    "        wrong_tot = wrong_tot + 1\n",
    "print \"Accuracy is\", 1-float(wrong_tot)/5000"
   ]
  },
  {
   "cell_type": "markdown",
   "metadata": {},
   "source": [
    "## Neural Network"
   ]
  },
  {
   "cell_type": "code",
   "execution_count": 63,
   "metadata": {},
   "outputs": [
    {
     "name": "stdout",
     "output_type": "stream",
     "text": [
      "(25, 401) (10, 26)\n"
     ]
    }
   ],
   "source": [
    "data = sio.loadmat('data/ex3weights.mat')\n",
    "# print data\n",
    "Theta1 = data['Theta1']\n",
    "Theta2 = data['Theta2']\n",
    "\n",
    "print Theta1.shape, Theta2.shape"
   ]
  },
  {
   "cell_type": "code",
   "execution_count": 64,
   "metadata": {},
   "outputs": [],
   "source": [
    "# Here is a class for creating NNs:\n",
    "class NN(object):\n",
    "    \"\"\"\n",
    "    A neural network with arbitrary layers and neurans in each layer.\n",
    "    \n",
    "    Arguments:\n",
    "    x  -  x must be an array, containing number of neurans in eaxh layer.\n",
    "    \"\"\"\n",
    "    def __init__(self, x):\n",
    "        self.num_layer = np.shape(x)\n",
    "        self.theta1 = np.zeros((x[1],x[0]))\n",
    "        self.theta2 = np.zeros((x[2],x[1]))\n",
    "        self.act1 = np.zeros(x[0])\n",
    "        self.act2 = np.zeros(x[1])\n",
    "        self.act3 = np.zeros(x[2])\n",
    "        self.act1[0] = 1  ## this is input layer\n",
    "        self.act2[0] = 1  ## this is hidden layer\n",
    "        \n",
    "    def __call__(self):\n",
    "        pass\n",
    "    \n",
    "    def assignWeigth(self,theta1,theta2):\n",
    "        self.theta1 = theta1\n",
    "        self.theta2 = theta2\n",
    "        return \n",
    "    \n",
    "    def assignInput(self,x):\n",
    "        self.theta1 = theta1\n",
    "        self.theta2 = theta2\n",
    "        return\n",
    "\n",
    "    def forwardProp(self,theta,input_): \n",
    "        return np.dot(theta,input_)"
   ]
  },
  {
   "cell_type": "code",
   "execution_count": 65,
   "metadata": {},
   "outputs": [
    {
     "name": "stdout",
     "output_type": "stream",
     "text": [
      "(25, 401)\n",
      "(10, 26)\n"
     ]
    }
   ],
   "source": [
    "info = [401,26,10]\n",
    "myNN = NN(info)\n",
    "# print myNN.theta1.shape\n",
    "myNN.assignWeigth(Theta1,Theta2)\n",
    "print myNN.theta1[:,:].shape\n",
    "print myNN.theta2[:,:].shape\n",
    "\n",
    "theta_all = np.append(myNN.theta1.flatten(),myNN.theta2.flatten())"
   ]
  },
  {
   "cell_type": "code",
   "execution_count": 66,
   "metadata": {},
   "outputs": [],
   "source": [
    "def forwardProp(input_,weight):\n",
    "    \"\"\"\n",
    "    One step forward propagation.\n",
    "    \n",
    "    Arguments:\n",
    "    weight\n",
    "    input_\n",
    "    \"\"\"    \n",
    "    z = weight[:,0] + np.dot(weight[:,1:],input_)\n",
    "    a = sigmoid(z)\n",
    "    return z,a"
   ]
  },
  {
   "cell_type": "code",
   "execution_count": 68,
   "metadata": {},
   "outputs": [],
   "source": [
    "# forwardProp(X[i,:],myNN.theta1)[0].shape"
   ]
  },
  {
   "cell_type": "code",
   "execution_count": 69,
   "metadata": {},
   "outputs": [
    {
     "name": "stdout",
     "output_type": "stream",
     "text": [
      "Accuracy is 0.9752\n"
     ]
    }
   ],
   "source": [
    "### calculating accuracy\n",
    "wrong_tot = 0\n",
    "a3 = np.zeros((5000,k))\n",
    "for i in xrange(5000):\n",
    "    dummy,a2 = forwardProp(X[i,:],myNN.theta1)\n",
    "    dummy,a3[i,:] = forwardProp(a2,myNN.theta2)\n",
    "for i in xrange(0,5000):\n",
    "    index = np.floor(i/500)\n",
    "    c = np.argmax(a3[i,:])\n",
    "    if int(index) is 0:\n",
    "        if (int(c) is not 9): ## or k-1\n",
    "            wrong_tot = wrong_tot + 1\n",
    "    else:\n",
    "        if (int(c) is not int(index)-1):\n",
    "#             print i,c,index\n",
    "            wrong_tot = wrong_tot + 1\n",
    "print \"Accuracy is\", 1-float(wrong_tot)/5000"
   ]
  },
  {
   "cell_type": "code",
   "execution_count": 70,
   "metadata": {},
   "outputs": [],
   "source": [
    "k = 10\n",
    "Y_ = np.zeros((5000,k))\n",
    "for i in xrange(1,k):\n",
    "    Y_[i*500:(i+1)*500,i-1] = 1.\n",
    "Y_[0:500,-1] = 1."
   ]
  },
  {
   "cell_type": "code",
   "execution_count": 71,
   "metadata": {},
   "outputs": [],
   "source": [
    "a2 = np.zeros((5000,25))\n",
    "a3 = np.zeros((5000,10))  ## or k\n",
    "z2 = np.zeros((5000,25))\n",
    "z3 = np.zeros((5000,10))\n",
    "for i in xrange(5000):\n",
    "    z2[i,:],a2[i,:] = forwardProp(X[i,:] ,myNN.theta1)\n",
    "    z3[i,:],a3[i,:] = forwardProp(a2[i,:],myNN.theta2)"
   ]
  },
  {
   "cell_type": "code",
   "execution_count": 72,
   "metadata": {},
   "outputs": [
    {
     "name": "stdout",
     "output_type": "stream",
     "text": [
      "(5000, 10)"
     ]
    },
    {
     "ename": "NameError",
     "evalue": "name 'h3' is not defined",
     "output_type": "error",
     "traceback": [
      "\u001b[0;31m---------------------------------------------------------------------------\u001b[0m",
      "\u001b[0;31mNameError\u001b[0m                                 Traceback (most recent call last)",
      "\u001b[0;32m<ipython-input-72-3bdf27757258>\u001b[0m in \u001b[0;36m<module>\u001b[0;34m()\u001b[0m\n\u001b[0;32m----> 1\u001b[0;31m \u001b[0;32mprint\u001b[0m \u001b[0mY_\u001b[0m\u001b[0;34m.\u001b[0m\u001b[0mshape\u001b[0m\u001b[0;34m,\u001b[0m \u001b[0mh3\u001b[0m\u001b[0;34m.\u001b[0m\u001b[0mshape\u001b[0m\u001b[0;34m\u001b[0m\u001b[0m\n\u001b[0m",
      "\u001b[0;31mNameError\u001b[0m: name 'h3' is not defined"
     ]
    }
   ],
   "source": [
    "print Y_.shape, h3.shape"
   ]
  },
  {
   "cell_type": "code",
   "execution_count": 73,
   "metadata": {},
   "outputs": [
    {
     "name": "stdout",
     "output_type": "stream",
     "text": [
      " (5000, 10)"
     ]
    },
    {
     "ename": "NameError",
     "evalue": "name 'h3' is not defined",
     "output_type": "error",
     "traceback": [
      "\u001b[0;31m---------------------------------------------------------------------------\u001b[0m",
      "\u001b[0;31mNameError\u001b[0m                                 Traceback (most recent call last)",
      "\u001b[0;32m<ipython-input-73-a24406204b2b>\u001b[0m in \u001b[0;36m<module>\u001b[0;34m()\u001b[0m\n\u001b[0;32m----> 1\u001b[0;31m \u001b[0;32mprint\u001b[0m \u001b[0mY_\u001b[0m\u001b[0;34m.\u001b[0m\u001b[0mshape\u001b[0m\u001b[0;34m,\u001b[0m \u001b[0mnp\u001b[0m\u001b[0;34m.\u001b[0m\u001b[0mlog\u001b[0m\u001b[0;34m(\u001b[0m\u001b[0mh3\u001b[0m\u001b[0;34m)\u001b[0m\u001b[0;34m.\u001b[0m\u001b[0mshape\u001b[0m\u001b[0;34m\u001b[0m\u001b[0m\n\u001b[0m\u001b[1;32m      2\u001b[0m \u001b[0;31m# print Y_[0,:], h3, np.log(h3)\u001b[0m\u001b[0;34m\u001b[0m\u001b[0;34m\u001b[0m\u001b[0m\n\u001b[1;32m      3\u001b[0m \u001b[0;31m# print Y_[0,:]*np.log(h3)\u001b[0m\u001b[0;34m\u001b[0m\u001b[0;34m\u001b[0m\u001b[0m\n\u001b[1;32m      4\u001b[0m \u001b[0;31m# print np.dot(Y_[0,:],np.log(h3))\u001b[0m\u001b[0;34m\u001b[0m\u001b[0;34m\u001b[0m\u001b[0m\n\u001b[1;32m      5\u001b[0m \u001b[0;31m# np.dot(Y_,np.log(h3))\u001b[0m\u001b[0;34m\u001b[0m\u001b[0;34m\u001b[0m\u001b[0m\n",
      "\u001b[0;31mNameError\u001b[0m: name 'h3' is not defined"
     ]
    }
   ],
   "source": [
    "print Y_.shape, np.log(h3).shape\n",
    "# print Y_[0,:], h3, np.log(h3)\n",
    "# print Y_[0,:]*np.log(h3)\n",
    "# print np.dot(Y_[0,:],np.log(h3))\n",
    "# np.dot(Y_,np.log(h3))\n",
    "\n",
    "a = np.array([[1,2],[3,4]])\n",
    "b = np.array([[1,2],[1,4]])\n",
    "print a*b"
   ]
  },
  {
   "cell_type": "code",
   "execution_count": 74,
   "metadata": {},
   "outputs": [
    {
     "name": "stdout",
     "output_type": "stream",
     "text": [
      "\n"
     ]
    }
   ],
   "source": [
    "def cost_function_nn_regularized(theta_all, X, Y_, lambda_):\n",
    "    \"\"\"\n",
    "    Arguments:\n",
    "    \n",
    "    Y       -  The observed output (1D array)\n",
    "    lambda_ -  The regularization parameter\n",
    "    \"\"\"\n",
    "    num_observations = Y.shape[0]\n",
    "    theta1 = theta_all[0:myNN.theta1.size].reshape(myNN.theta1.shape)\n",
    "    theta2 = theta_all[myNN.theta1.size: ].reshape(myNN.theta2.shape)\n",
    "    \n",
    "    a3 = np.zeros((5000,k))\n",
    "    for i in xrange(5000):\n",
    "        dummy,a2 = forwardProp(X[i,:],theta1)\n",
    "        dummy,a3[i,:] = forwardProp(a2,theta2)\n",
    "    \n",
    "#     print \"a3 in cost = \", a3[0,:]\n",
    "    \n",
    "    return 1./num_observations * np.sum(-(Y_*np.log(a3))-((1.-Y_)*np.log(1.-a3))) + \\\n",
    "                                 lambda_/(2.*num_observations) * (np.sum(theta1[:,1:]**2.) + np.sum(theta2[:,1:]**2.))  "
   ]
  },
  {
   "cell_type": "code",
   "execution_count": 75,
   "metadata": {},
   "outputs": [
    {
     "data": {
      "text/plain": [
       "6.8645357616763594"
      ]
     },
     "execution_count": 75,
     "metadata": {},
     "output_type": "execute_result"
    }
   ],
   "source": [
    "# cost_function_nn_regularized(myNN.theta1, myNN.theta2, a3, Y_, 0.)\n",
    "\n",
    "theta_all = np.random.uniform(-0.12,0.12,myNN.theta1.size+myNN.theta2.size)\n",
    "theta1 = theta_all[0:myNN.theta1.size].reshape(myNN.theta1.shape)\n",
    "theta2 = theta_all[myNN.theta1.size: ].reshape(myNN.theta2.shape)\n",
    "# a3 = np.zeros((5000,k))\n",
    "# for i in xrange(5000):\n",
    "#     dummy,a2 = forwardProp(X[i,:],theta1)\n",
    "#     dummy,a3[i,:] = forwardProp(a2,theta2)\n",
    "    \n",
    "cost_function_nn_regularized(theta_all, X, Y_, 0.)"
   ]
  },
  {
   "cell_type": "code",
   "execution_count": 76,
   "metadata": {},
   "outputs": [
    {
     "data": {
      "text/plain": [
       "0.25"
      ]
     },
     "execution_count": 76,
     "metadata": {},
     "output_type": "execute_result"
    }
   ],
   "source": [
    "sigmoid_prime = lambda x: sigmoid(x)*(1.-sigmoid(x))\n",
    "\n",
    "sigmoid_prime(0)"
   ]
  },
  {
   "cell_type": "code",
   "execution_count": 77,
   "metadata": {},
   "outputs": [],
   "source": [
    "theta_all = np.append(myNN.theta1.flatten(),myNN.theta2.flatten())\n",
    "# print theta_all[0:myNN.theta1.size].reshape(myNN.theta1.shape)\n",
    "# print myNN.theta1\n",
    "# print theta_all.shape\n",
    "# print theta_all[myNN.theta1.size:].reshape(myNN.theta2.shape)\n",
    "# print myNN.theta2"
   ]
  },
  {
   "cell_type": "code",
   "execution_count": 78,
   "metadata": {},
   "outputs": [],
   "source": [
    "def gradient_nn (theta_all, X, Y_, lambda_):\n",
    "    \n",
    "    num_observations = Y.shape[0]\n",
    "\n",
    "    delta3 = np.zeros((5000,10))\n",
    "    delta2 = np.zeros((5000,25))\n",
    "    Delta1 = np.zeros(myNN.theta1.shape)\n",
    "    Delta2 = np.zeros(myNN.theta2.shape)\n",
    "    \n",
    "    a2 = np.zeros((5000,25))\n",
    "    a3 = np.zeros((5000,10))  ## or k\n",
    "    z2 = np.zeros((5000,25))\n",
    "    z3 = np.zeros((5000,10))\n",
    "    \n",
    "    theta1 = theta_all[0:myNN.theta1.size].reshape(myNN.theta1.shape)\n",
    "    theta2 = theta_all[myNN.theta1.size: ].reshape(myNN.theta2.shape)\n",
    "    \n",
    "    for i in xrange(num_observations):\n",
    "        z2[i,:],a2[i,:] = forwardProp(X[i,:],theta1)\n",
    "        z3[i,:],a3[i,:] = forwardProp(a2[i,:],theta2)\n",
    "        delta3[i,:] = a3[i,:]-Y_[i,:]\n",
    "        delta2[i,:] = np.dot(theta2[:,1:].T,delta3[i,:])*sigmoid_prime(z2[i,:])\n",
    "        Delta1 = Delta1 + np.dot(delta2[i,:][:,None],a1_[i,:][:,None].T)\n",
    "        Delta2 = Delta2 + np.dot(delta3[i,:][:,None],a2_[i,:][:,None].T)\n",
    "        \n",
    "    Delta1 = Delta1/num_observations\n",
    "    Delta2 = Delta2/num_observations\n",
    "    \n",
    "#     print \"a3 in gradient = \", a3[0,:]\n",
    "    \n",
    "    return np.append(Delta1.flatten(),Delta2.flatten())"
   ]
  },
  {
   "cell_type": "code",
   "execution_count": 79,
   "metadata": {},
   "outputs": [
    {
     "ename": "NameError",
     "evalue": "global name 'a1_' is not defined",
     "output_type": "error",
     "traceback": [
      "\u001b[0;31m---------------------------------------------------------------------------\u001b[0m",
      "\u001b[0;31mNameError\u001b[0m                                 Traceback (most recent call last)",
      "\u001b[0;32m<ipython-input-79-be6a2090e3f3>\u001b[0m in \u001b[0;36m<module>\u001b[0;34m()\u001b[0m\n\u001b[0;32m----> 1\u001b[0;31m \u001b[0mgradient_nn\u001b[0m\u001b[0;34m(\u001b[0m\u001b[0mtheta_all\u001b[0m\u001b[0;34m,\u001b[0m\u001b[0mX\u001b[0m\u001b[0;34m,\u001b[0m\u001b[0mY_\u001b[0m\u001b[0;34m,\u001b[0m\u001b[0;36m0.\u001b[0m\u001b[0;34m)\u001b[0m\u001b[0;34m\u001b[0m\u001b[0m\n\u001b[0m\u001b[1;32m      2\u001b[0m \u001b[0;31m# np.random.uniform(-0.12,0.12,myNN.theta1.size+myNN.theta2.size)\u001b[0m\u001b[0;34m\u001b[0m\u001b[0;34m\u001b[0m\u001b[0m\n",
      "\u001b[0;32m<ipython-input-78-0ce6e07d9b1c>\u001b[0m in \u001b[0;36mgradient_nn\u001b[0;34m(theta_all, X, Y_, lambda_)\u001b[0m\n\u001b[1;32m     21\u001b[0m         \u001b[0mdelta3\u001b[0m\u001b[0;34m[\u001b[0m\u001b[0mi\u001b[0m\u001b[0;34m,\u001b[0m\u001b[0;34m:\u001b[0m\u001b[0;34m]\u001b[0m \u001b[0;34m=\u001b[0m \u001b[0ma3\u001b[0m\u001b[0;34m[\u001b[0m\u001b[0mi\u001b[0m\u001b[0;34m,\u001b[0m\u001b[0;34m:\u001b[0m\u001b[0;34m]\u001b[0m\u001b[0;34m-\u001b[0m\u001b[0mY_\u001b[0m\u001b[0;34m[\u001b[0m\u001b[0mi\u001b[0m\u001b[0;34m,\u001b[0m\u001b[0;34m:\u001b[0m\u001b[0;34m]\u001b[0m\u001b[0;34m\u001b[0m\u001b[0m\n\u001b[1;32m     22\u001b[0m         \u001b[0mdelta2\u001b[0m\u001b[0;34m[\u001b[0m\u001b[0mi\u001b[0m\u001b[0;34m,\u001b[0m\u001b[0;34m:\u001b[0m\u001b[0;34m]\u001b[0m \u001b[0;34m=\u001b[0m \u001b[0mnp\u001b[0m\u001b[0;34m.\u001b[0m\u001b[0mdot\u001b[0m\u001b[0;34m(\u001b[0m\u001b[0mtheta2\u001b[0m\u001b[0;34m[\u001b[0m\u001b[0;34m:\u001b[0m\u001b[0;34m,\u001b[0m\u001b[0;36m1\u001b[0m\u001b[0;34m:\u001b[0m\u001b[0;34m]\u001b[0m\u001b[0;34m.\u001b[0m\u001b[0mT\u001b[0m\u001b[0;34m,\u001b[0m\u001b[0mdelta3\u001b[0m\u001b[0;34m[\u001b[0m\u001b[0mi\u001b[0m\u001b[0;34m,\u001b[0m\u001b[0;34m:\u001b[0m\u001b[0;34m]\u001b[0m\u001b[0;34m)\u001b[0m\u001b[0;34m*\u001b[0m\u001b[0msigmoid_prime\u001b[0m\u001b[0;34m(\u001b[0m\u001b[0mz2\u001b[0m\u001b[0;34m[\u001b[0m\u001b[0mi\u001b[0m\u001b[0;34m,\u001b[0m\u001b[0;34m:\u001b[0m\u001b[0;34m]\u001b[0m\u001b[0;34m)\u001b[0m\u001b[0;34m\u001b[0m\u001b[0m\n\u001b[0;32m---> 23\u001b[0;31m         \u001b[0mDelta1\u001b[0m \u001b[0;34m=\u001b[0m \u001b[0mDelta1\u001b[0m \u001b[0;34m+\u001b[0m \u001b[0mnp\u001b[0m\u001b[0;34m.\u001b[0m\u001b[0mdot\u001b[0m\u001b[0;34m(\u001b[0m\u001b[0mdelta2\u001b[0m\u001b[0;34m[\u001b[0m\u001b[0mi\u001b[0m\u001b[0;34m,\u001b[0m\u001b[0;34m:\u001b[0m\u001b[0;34m]\u001b[0m\u001b[0;34m[\u001b[0m\u001b[0;34m:\u001b[0m\u001b[0;34m,\u001b[0m\u001b[0mNone\u001b[0m\u001b[0;34m]\u001b[0m\u001b[0;34m,\u001b[0m\u001b[0ma1_\u001b[0m\u001b[0;34m[\u001b[0m\u001b[0mi\u001b[0m\u001b[0;34m,\u001b[0m\u001b[0;34m:\u001b[0m\u001b[0;34m]\u001b[0m\u001b[0;34m[\u001b[0m\u001b[0;34m:\u001b[0m\u001b[0;34m,\u001b[0m\u001b[0mNone\u001b[0m\u001b[0;34m]\u001b[0m\u001b[0;34m.\u001b[0m\u001b[0mT\u001b[0m\u001b[0;34m)\u001b[0m\u001b[0;34m\u001b[0m\u001b[0m\n\u001b[0m\u001b[1;32m     24\u001b[0m         \u001b[0mDelta2\u001b[0m \u001b[0;34m=\u001b[0m \u001b[0mDelta2\u001b[0m \u001b[0;34m+\u001b[0m \u001b[0mnp\u001b[0m\u001b[0;34m.\u001b[0m\u001b[0mdot\u001b[0m\u001b[0;34m(\u001b[0m\u001b[0mdelta3\u001b[0m\u001b[0;34m[\u001b[0m\u001b[0mi\u001b[0m\u001b[0;34m,\u001b[0m\u001b[0;34m:\u001b[0m\u001b[0;34m]\u001b[0m\u001b[0;34m[\u001b[0m\u001b[0;34m:\u001b[0m\u001b[0;34m,\u001b[0m\u001b[0mNone\u001b[0m\u001b[0;34m]\u001b[0m\u001b[0;34m,\u001b[0m\u001b[0ma2_\u001b[0m\u001b[0;34m[\u001b[0m\u001b[0mi\u001b[0m\u001b[0;34m,\u001b[0m\u001b[0;34m:\u001b[0m\u001b[0;34m]\u001b[0m\u001b[0;34m[\u001b[0m\u001b[0;34m:\u001b[0m\u001b[0;34m,\u001b[0m\u001b[0mNone\u001b[0m\u001b[0;34m]\u001b[0m\u001b[0;34m.\u001b[0m\u001b[0mT\u001b[0m\u001b[0;34m)\u001b[0m\u001b[0;34m\u001b[0m\u001b[0m\n\u001b[1;32m     25\u001b[0m \u001b[0;34m\u001b[0m\u001b[0m\n",
      "\u001b[0;31mNameError\u001b[0m: global name 'a1_' is not defined"
     ]
    }
   ],
   "source": [
    "gradient_nn(theta_all,X,Y_,0.)\n",
    "# np.random.uniform(-0.12,0.12,myNN.theta1.size+myNN.theta2.size)"
   ]
  },
  {
   "cell_type": "code",
   "execution_count": 80,
   "metadata": {},
   "outputs": [],
   "source": [
    "def myOptimize3(num_iter):\n",
    "    \"\"\"\n",
    "    This is using fmin_cg from python, much faster\n",
    "    \"\"\" \n",
    "    x0 = np.random.uniform(-0.12,0.12,myNN.theta1.size+myNN.theta2.size)\n",
    "#     print x0\n",
    "    theta1 = x0[0:myNN.theta1.size].reshape(myNN.theta1.shape)\n",
    "    theta2 = x0[myNN.theta1.size: ].reshape(myNN.theta2.shape)\n",
    "#     a3 = np.zeros((5000,k))\n",
    "#     for i in xrange(5000):\n",
    "#         dummy,a2 = forwardProp(X[i,:],theta1)\n",
    "#         dummy,a3[i,:] = forwardProp(a2,theta2)\n",
    "        \n",
    "#     print \"a3 in optimize = \", a3[0,:]\n",
    "\n",
    "#     print cost_function_nn_regularized(x0, a3, Y_, 0.)\n",
    "#     print gradient_nn(x0, a3, Y_, 0.)\n",
    "    \n",
    "    result = optimize.fmin_cg(cost_function_nn_regularized, x0=x0, fprime=gradient_nn, \\\n",
    "                              args=(X, Y_, 0.), maxiter=num_iter, disp=False,\\\n",
    "                              full_output=True)\n",
    "#     print result[1]\n",
    "#     print gradient_nn(result[0], a3, Y_, 0.)\n",
    "    return result[0],result[1]"
   ]
  },
  {
   "cell_type": "code",
   "execution_count": 81,
   "metadata": {},
   "outputs": [
    {
     "ename": "NameError",
     "evalue": "global name 'a1_' is not defined",
     "output_type": "error",
     "traceback": [
      "\u001b[0;31m---------------------------------------------------------------------------\u001b[0m",
      "\u001b[0;31mNameError\u001b[0m                                 Traceback (most recent call last)",
      "\u001b[0;32m<ipython-input-81-e6bf0acd8b34>\u001b[0m in \u001b[0;36m<module>\u001b[0;34m()\u001b[0m\n\u001b[0;32m----> 1\u001b[0;31m \u001b[0mmyOptimize3\u001b[0m\u001b[0;34m(\u001b[0m\u001b[0;36m3\u001b[0m\u001b[0;34m)\u001b[0m\u001b[0;34m\u001b[0m\u001b[0m\n\u001b[0m",
      "\u001b[0;32m<ipython-input-80-0a19e8b7f3b4>\u001b[0m in \u001b[0;36mmyOptimize3\u001b[0;34m(num_iter)\u001b[0m\n\u001b[1;32m     17\u001b[0m \u001b[0;31m#     print gradient_nn(x0, a3, Y_, 0.)\u001b[0m\u001b[0;34m\u001b[0m\u001b[0;34m\u001b[0m\u001b[0m\n\u001b[1;32m     18\u001b[0m \u001b[0;34m\u001b[0m\u001b[0m\n\u001b[0;32m---> 19\u001b[0;31m     \u001b[0mresult\u001b[0m \u001b[0;34m=\u001b[0m \u001b[0moptimize\u001b[0m\u001b[0;34m.\u001b[0m\u001b[0mfmin_cg\u001b[0m\u001b[0;34m(\u001b[0m\u001b[0mcost_function_nn_regularized\u001b[0m\u001b[0;34m,\u001b[0m \u001b[0mx0\u001b[0m\u001b[0;34m=\u001b[0m\u001b[0mx0\u001b[0m\u001b[0;34m,\u001b[0m \u001b[0mfprime\u001b[0m\u001b[0;34m=\u001b[0m\u001b[0mgradient_nn\u001b[0m\u001b[0;34m,\u001b[0m                               \u001b[0margs\u001b[0m\u001b[0;34m=\u001b[0m\u001b[0;34m(\u001b[0m\u001b[0mX\u001b[0m\u001b[0;34m,\u001b[0m \u001b[0mY_\u001b[0m\u001b[0;34m,\u001b[0m \u001b[0;36m0.\u001b[0m\u001b[0;34m)\u001b[0m\u001b[0;34m,\u001b[0m \u001b[0mmaxiter\u001b[0m\u001b[0;34m=\u001b[0m\u001b[0mnum_iter\u001b[0m\u001b[0;34m,\u001b[0m \u001b[0mdisp\u001b[0m\u001b[0;34m=\u001b[0m\u001b[0mFalse\u001b[0m\u001b[0;34m,\u001b[0m                              \u001b[0mfull_output\u001b[0m\u001b[0;34m=\u001b[0m\u001b[0mTrue\u001b[0m\u001b[0;34m)\u001b[0m\u001b[0;34m\u001b[0m\u001b[0m\n\u001b[0m\u001b[1;32m     20\u001b[0m \u001b[0;31m#     print result[1]\u001b[0m\u001b[0;34m\u001b[0m\u001b[0;34m\u001b[0m\u001b[0m\n\u001b[1;32m     21\u001b[0m \u001b[0;31m#     print gradient_nn(result[0], a3, Y_, 0.)\u001b[0m\u001b[0;34m\u001b[0m\u001b[0;34m\u001b[0m\u001b[0m\n",
      "\u001b[0;32m/Users/soroush/Software/miniconda2/lib/python2.7/site-packages/scipy/optimize/optimize.pyc\u001b[0m in \u001b[0;36mfmin_cg\u001b[0;34m(f, x0, fprime, args, gtol, norm, epsilon, maxiter, full_output, disp, retall, callback)\u001b[0m\n\u001b[1;32m   1205\u001b[0m             'return_all': retall}\n\u001b[1;32m   1206\u001b[0m \u001b[0;34m\u001b[0m\u001b[0m\n\u001b[0;32m-> 1207\u001b[0;31m     \u001b[0mres\u001b[0m \u001b[0;34m=\u001b[0m \u001b[0m_minimize_cg\u001b[0m\u001b[0;34m(\u001b[0m\u001b[0mf\u001b[0m\u001b[0;34m,\u001b[0m \u001b[0mx0\u001b[0m\u001b[0;34m,\u001b[0m \u001b[0margs\u001b[0m\u001b[0;34m,\u001b[0m \u001b[0mfprime\u001b[0m\u001b[0;34m,\u001b[0m \u001b[0mcallback\u001b[0m\u001b[0;34m=\u001b[0m\u001b[0mcallback\u001b[0m\u001b[0;34m,\u001b[0m \u001b[0;34m**\u001b[0m\u001b[0mopts\u001b[0m\u001b[0;34m)\u001b[0m\u001b[0;34m\u001b[0m\u001b[0m\n\u001b[0m\u001b[1;32m   1208\u001b[0m \u001b[0;34m\u001b[0m\u001b[0m\n\u001b[1;32m   1209\u001b[0m     \u001b[0;32mif\u001b[0m \u001b[0mfull_output\u001b[0m\u001b[0;34m:\u001b[0m\u001b[0;34m\u001b[0m\u001b[0m\n",
      "\u001b[0;32m/Users/soroush/Software/miniconda2/lib/python2.7/site-packages/scipy/optimize/optimize.pyc\u001b[0m in \u001b[0;36m_minimize_cg\u001b[0;34m(fun, x0, args, jac, callback, gtol, norm, eps, maxiter, disp, return_all, **unknown_options)\u001b[0m\n\u001b[1;32m   1256\u001b[0m     \u001b[0;32melse\u001b[0m\u001b[0;34m:\u001b[0m\u001b[0;34m\u001b[0m\u001b[0m\n\u001b[1;32m   1257\u001b[0m         \u001b[0mgrad_calls\u001b[0m\u001b[0;34m,\u001b[0m \u001b[0mmyfprime\u001b[0m \u001b[0;34m=\u001b[0m \u001b[0mwrap_function\u001b[0m\u001b[0;34m(\u001b[0m\u001b[0mfprime\u001b[0m\u001b[0;34m,\u001b[0m \u001b[0margs\u001b[0m\u001b[0;34m)\u001b[0m\u001b[0;34m\u001b[0m\u001b[0m\n\u001b[0;32m-> 1258\u001b[0;31m     \u001b[0mgfk\u001b[0m \u001b[0;34m=\u001b[0m \u001b[0mmyfprime\u001b[0m\u001b[0;34m(\u001b[0m\u001b[0mx0\u001b[0m\u001b[0;34m)\u001b[0m\u001b[0;34m\u001b[0m\u001b[0m\n\u001b[0m\u001b[1;32m   1259\u001b[0m     \u001b[0mk\u001b[0m \u001b[0;34m=\u001b[0m \u001b[0;36m0\u001b[0m\u001b[0;34m\u001b[0m\u001b[0m\n\u001b[1;32m   1260\u001b[0m     \u001b[0mxk\u001b[0m \u001b[0;34m=\u001b[0m \u001b[0mx0\u001b[0m\u001b[0;34m\u001b[0m\u001b[0m\n",
      "\u001b[0;32m/Users/soroush/Software/miniconda2/lib/python2.7/site-packages/scipy/optimize/optimize.pyc\u001b[0m in \u001b[0;36mfunction_wrapper\u001b[0;34m(*wrapper_args)\u001b[0m\n\u001b[1;32m    290\u001b[0m     \u001b[0;32mdef\u001b[0m \u001b[0mfunction_wrapper\u001b[0m\u001b[0;34m(\u001b[0m\u001b[0;34m*\u001b[0m\u001b[0mwrapper_args\u001b[0m\u001b[0;34m)\u001b[0m\u001b[0;34m:\u001b[0m\u001b[0;34m\u001b[0m\u001b[0m\n\u001b[1;32m    291\u001b[0m         \u001b[0mncalls\u001b[0m\u001b[0;34m[\u001b[0m\u001b[0;36m0\u001b[0m\u001b[0;34m]\u001b[0m \u001b[0;34m+=\u001b[0m \u001b[0;36m1\u001b[0m\u001b[0;34m\u001b[0m\u001b[0m\n\u001b[0;32m--> 292\u001b[0;31m         \u001b[0;32mreturn\u001b[0m \u001b[0mfunction\u001b[0m\u001b[0;34m(\u001b[0m\u001b[0;34m*\u001b[0m\u001b[0;34m(\u001b[0m\u001b[0mwrapper_args\u001b[0m \u001b[0;34m+\u001b[0m \u001b[0margs\u001b[0m\u001b[0;34m)\u001b[0m\u001b[0;34m)\u001b[0m\u001b[0;34m\u001b[0m\u001b[0m\n\u001b[0m\u001b[1;32m    293\u001b[0m \u001b[0;34m\u001b[0m\u001b[0m\n\u001b[1;32m    294\u001b[0m     \u001b[0;32mreturn\u001b[0m \u001b[0mncalls\u001b[0m\u001b[0;34m,\u001b[0m \u001b[0mfunction_wrapper\u001b[0m\u001b[0;34m\u001b[0m\u001b[0m\n",
      "\u001b[0;32m<ipython-input-78-0ce6e07d9b1c>\u001b[0m in \u001b[0;36mgradient_nn\u001b[0;34m(theta_all, X, Y_, lambda_)\u001b[0m\n\u001b[1;32m     21\u001b[0m         \u001b[0mdelta3\u001b[0m\u001b[0;34m[\u001b[0m\u001b[0mi\u001b[0m\u001b[0;34m,\u001b[0m\u001b[0;34m:\u001b[0m\u001b[0;34m]\u001b[0m \u001b[0;34m=\u001b[0m \u001b[0ma3\u001b[0m\u001b[0;34m[\u001b[0m\u001b[0mi\u001b[0m\u001b[0;34m,\u001b[0m\u001b[0;34m:\u001b[0m\u001b[0;34m]\u001b[0m\u001b[0;34m-\u001b[0m\u001b[0mY_\u001b[0m\u001b[0;34m[\u001b[0m\u001b[0mi\u001b[0m\u001b[0;34m,\u001b[0m\u001b[0;34m:\u001b[0m\u001b[0;34m]\u001b[0m\u001b[0;34m\u001b[0m\u001b[0m\n\u001b[1;32m     22\u001b[0m         \u001b[0mdelta2\u001b[0m\u001b[0;34m[\u001b[0m\u001b[0mi\u001b[0m\u001b[0;34m,\u001b[0m\u001b[0;34m:\u001b[0m\u001b[0;34m]\u001b[0m \u001b[0;34m=\u001b[0m \u001b[0mnp\u001b[0m\u001b[0;34m.\u001b[0m\u001b[0mdot\u001b[0m\u001b[0;34m(\u001b[0m\u001b[0mtheta2\u001b[0m\u001b[0;34m[\u001b[0m\u001b[0;34m:\u001b[0m\u001b[0;34m,\u001b[0m\u001b[0;36m1\u001b[0m\u001b[0;34m:\u001b[0m\u001b[0;34m]\u001b[0m\u001b[0;34m.\u001b[0m\u001b[0mT\u001b[0m\u001b[0;34m,\u001b[0m\u001b[0mdelta3\u001b[0m\u001b[0;34m[\u001b[0m\u001b[0mi\u001b[0m\u001b[0;34m,\u001b[0m\u001b[0;34m:\u001b[0m\u001b[0;34m]\u001b[0m\u001b[0;34m)\u001b[0m\u001b[0;34m*\u001b[0m\u001b[0msigmoid_prime\u001b[0m\u001b[0;34m(\u001b[0m\u001b[0mz2\u001b[0m\u001b[0;34m[\u001b[0m\u001b[0mi\u001b[0m\u001b[0;34m,\u001b[0m\u001b[0;34m:\u001b[0m\u001b[0;34m]\u001b[0m\u001b[0;34m)\u001b[0m\u001b[0;34m\u001b[0m\u001b[0m\n\u001b[0;32m---> 23\u001b[0;31m         \u001b[0mDelta1\u001b[0m \u001b[0;34m=\u001b[0m \u001b[0mDelta1\u001b[0m \u001b[0;34m+\u001b[0m \u001b[0mnp\u001b[0m\u001b[0;34m.\u001b[0m\u001b[0mdot\u001b[0m\u001b[0;34m(\u001b[0m\u001b[0mdelta2\u001b[0m\u001b[0;34m[\u001b[0m\u001b[0mi\u001b[0m\u001b[0;34m,\u001b[0m\u001b[0;34m:\u001b[0m\u001b[0;34m]\u001b[0m\u001b[0;34m[\u001b[0m\u001b[0;34m:\u001b[0m\u001b[0;34m,\u001b[0m\u001b[0mNone\u001b[0m\u001b[0;34m]\u001b[0m\u001b[0;34m,\u001b[0m\u001b[0ma1_\u001b[0m\u001b[0;34m[\u001b[0m\u001b[0mi\u001b[0m\u001b[0;34m,\u001b[0m\u001b[0;34m:\u001b[0m\u001b[0;34m]\u001b[0m\u001b[0;34m[\u001b[0m\u001b[0;34m:\u001b[0m\u001b[0;34m,\u001b[0m\u001b[0mNone\u001b[0m\u001b[0;34m]\u001b[0m\u001b[0;34m.\u001b[0m\u001b[0mT\u001b[0m\u001b[0;34m)\u001b[0m\u001b[0;34m\u001b[0m\u001b[0m\n\u001b[0m\u001b[1;32m     24\u001b[0m         \u001b[0mDelta2\u001b[0m \u001b[0;34m=\u001b[0m \u001b[0mDelta2\u001b[0m \u001b[0;34m+\u001b[0m \u001b[0mnp\u001b[0m\u001b[0;34m.\u001b[0m\u001b[0mdot\u001b[0m\u001b[0;34m(\u001b[0m\u001b[0mdelta3\u001b[0m\u001b[0;34m[\u001b[0m\u001b[0mi\u001b[0m\u001b[0;34m,\u001b[0m\u001b[0;34m:\u001b[0m\u001b[0;34m]\u001b[0m\u001b[0;34m[\u001b[0m\u001b[0;34m:\u001b[0m\u001b[0;34m,\u001b[0m\u001b[0mNone\u001b[0m\u001b[0;34m]\u001b[0m\u001b[0;34m,\u001b[0m\u001b[0ma2_\u001b[0m\u001b[0;34m[\u001b[0m\u001b[0mi\u001b[0m\u001b[0;34m,\u001b[0m\u001b[0;34m:\u001b[0m\u001b[0;34m]\u001b[0m\u001b[0;34m[\u001b[0m\u001b[0;34m:\u001b[0m\u001b[0;34m,\u001b[0m\u001b[0mNone\u001b[0m\u001b[0;34m]\u001b[0m\u001b[0;34m.\u001b[0m\u001b[0mT\u001b[0m\u001b[0;34m)\u001b[0m\u001b[0;34m\u001b[0m\u001b[0m\n\u001b[1;32m     25\u001b[0m \u001b[0;34m\u001b[0m\u001b[0m\n",
      "\u001b[0;31mNameError\u001b[0m: global name 'a1_' is not defined"
     ]
    }
   ],
   "source": [
    "myOptimize3(3)"
   ]
  },
  {
   "cell_type": "code",
   "execution_count": null,
   "metadata": {},
   "outputs": [],
   "source": []
  }
 ],
 "metadata": {
  "anaconda-cloud": {},
  "celltoolbar": "Raw Cell Format",
  "kernelspec": {
   "display_name": "Python 2",
   "language": "python",
   "name": "python2"
  },
  "language_info": {
   "codemirror_mode": {
    "name": "ipython",
    "version": 2
   },
   "file_extension": ".py",
   "mimetype": "text/x-python",
   "name": "python",
   "nbconvert_exporter": "python",
   "pygments_lexer": "ipython2",
   "version": "2.7.14"
  },
  "latex_envs": {
   "bibliofile": "biblio.bib",
   "cite_by": "apalike",
   "current_citInitial": 1,
   "eqLabelWithNumbers": true,
   "eqNumInitial": 0
  },
  "nbpresent": {
   "slides": {},
   "themes": {
    "default": "010979b2-9edc-4853-97dc-d1a6fb9d6ba1",
    "theme": {
     "010979b2-9edc-4853-97dc-d1a6fb9d6ba1": {
      "id": "010979b2-9edc-4853-97dc-d1a6fb9d6ba1",
      "palette": {
       "19cc588f-0593-49c9-9f4b-e4d7cc113b1c": {
        "id": "19cc588f-0593-49c9-9f4b-e4d7cc113b1c",
        "rgb": [
         252,
         252,
         252
        ]
       },
       "31af15d2-7e15-44c5-ab5e-e04b16a89eff": {
        "id": "31af15d2-7e15-44c5-ab5e-e04b16a89eff",
        "rgb": [
         68,
         68,
         68
        ]
       },
       "50f92c45-a630-455b-aec3-788680ec7410": {
        "id": "50f92c45-a630-455b-aec3-788680ec7410",
        "rgb": [
         155,
         177,
         192
        ]
       },
       "c5cc3653-2ee1-402a-aba2-7caae1da4f6c": {
        "id": "c5cc3653-2ee1-402a-aba2-7caae1da4f6c",
        "rgb": [
         43,
         126,
         184
        ]
       },
       "efa7f048-9acb-414c-8b04-a26811511a21": {
        "id": "efa7f048-9acb-414c-8b04-a26811511a21",
        "rgb": [
         25.118061674008803,
         73.60176211453744,
         107.4819383259912
        ]
       }
      },
      "rules": {
       "blockquote": {
        "color": "50f92c45-a630-455b-aec3-788680ec7410"
       },
       "code": {
        "font-family": "Anonymous Pro"
       },
       "h1": {
        "color": "c5cc3653-2ee1-402a-aba2-7caae1da4f6c",
        "font-family": "Lato",
        "font-size": 8
       },
       "h2": {
        "color": "c5cc3653-2ee1-402a-aba2-7caae1da4f6c",
        "font-family": "Lato",
        "font-size": 6
       },
       "h3": {
        "color": "50f92c45-a630-455b-aec3-788680ec7410",
        "font-family": "Lato",
        "font-size": 5.5
       },
       "h4": {
        "color": "c5cc3653-2ee1-402a-aba2-7caae1da4f6c",
        "font-family": "Lato",
        "font-size": 5
       },
       "h5": {
        "font-family": "Lato"
       },
       "h6": {
        "font-family": "Lato"
       },
       "h7": {
        "font-family": "Lato"
       },
       "pre": {
        "font-family": "Anonymous Pro",
        "font-size": 4
       }
      },
      "text-base": {
       "font-family": "Merriweather",
       "font-size": 4
      }
     }
    }
   }
  }
 },
 "nbformat": 4,
 "nbformat_minor": 1
}
