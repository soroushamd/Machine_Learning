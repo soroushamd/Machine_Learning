{
 "cells": [
  {
   "cell_type": "markdown",
   "metadata": {},
   "source": [
    "## HW4: Neural Network"
   ]
  },
  {
   "cell_type": "code",
   "execution_count": 1,
   "metadata": {},
   "outputs": [],
   "source": [
    "import numpy as np\n",
    "import matplotlib.pyplot as plt\n",
    "%matplotlib inline\n",
    "import pandas as pd\n",
    "import scipy.io as sio\n",
    "from scipy import optimize"
   ]
  },
  {
   "cell_type": "code",
   "execution_count": 4,
   "metadata": {},
   "outputs": [
    {
     "name": "stdout",
     "output_type": "stream",
     "text": [
      "(5000, 400) (5000, 1)\n",
      "(25, 401) (10, 26)\n"
     ]
    }
   ],
   "source": [
    "data = sio.loadmat('data/ex3weights.mat')\n",
    "Theta1 = data['Theta1']\n",
    "Theta2 = data['Theta2']\n",
    "\n",
    "data = sio.loadmat('data/ex3data1.mat')\n",
    "X = data['X']\n",
    "Y = data['y']\n",
    "\n",
    "k=10\n",
    "Y_ = np.zeros((5000,k))\n",
    "for i in xrange(1,k):\n",
    "    Y_[i*500:(i+1)*500,i-1] = 1.\n",
    "Y_[0:500,-1] = 1.\n",
    "\n",
    "print X.shape, Y.shape\n",
    "print Theta1.shape, Theta2.shape"
   ]
  },
  {
   "cell_type": "code",
   "execution_count": 5,
   "metadata": {},
   "outputs": [],
   "source": [
    "# Here is a class for creating NNs:\n",
    "class NN(object):\n",
    "    \"\"\"\n",
    "    A neural network with arbitrary layers and neurans in each layer.\n",
    "    \n",
    "    Arguments:\n",
    "    x  -  x must be an array, containing number of neurans in eaxh layer.\n",
    "    \"\"\"\n",
    "    def __init__(self, x):\n",
    "        self.num_layer = np.shape(x)\n",
    "        self.theta1 = np.zeros((x[1],x[0]))\n",
    "        self.theta2 = np.zeros((x[2],x[1]))\n",
    "        self.act1 = np.zeros(x[0])\n",
    "        self.act2 = np.zeros(x[1])\n",
    "        self.act3 = np.zeros(x[2])\n",
    "        self.act1[0] = 1  ## this is input layer\n",
    "        self.act2[0] = 1  ## this is hidden layer\n",
    "        \n",
    "    def __call__(self):\n",
    "        pass\n",
    "    \n",
    "    def assignWeigth(self,theta1,theta2):\n",
    "        self.theta1 = theta1\n",
    "        self.theta2 = theta2\n",
    "        return \n",
    "    \n",
    "    def assignInput(self,x):\n",
    "        self.theta1 = theta1\n",
    "        self.theta2 = theta2\n",
    "        return\n",
    "\n",
    "    def forwardProp(self,theta,input_): \n",
    "        return np.dot(theta,input_)"
   ]
  },
  {
   "cell_type": "code",
   "execution_count": 6,
   "metadata": {},
   "outputs": [
    {
     "name": "stdout",
     "output_type": "stream",
     "text": [
      "(25, 401)\n",
      "(10, 26)\n"
     ]
    }
   ],
   "source": [
    "info = [401,26,10]\n",
    "myNN = NN(info)\n",
    "# print myNN.theta1.shape\n",
    "myNN.assignWeigth(Theta1,Theta2)\n",
    "print myNN.theta1[:,:].shape\n",
    "print myNN.theta2[:,:].shape\n",
    "\n",
    "theta_all = np.append(myNN.theta1.flatten(),myNN.theta2.flatten())"
   ]
  },
  {
   "cell_type": "code",
   "execution_count": 7,
   "metadata": {},
   "outputs": [],
   "source": [
    "sigmoid = lambda x: 1./(1+np.exp(-x))\n",
    "sigmoid_prime = lambda x: sigmoid(x)*(1.-sigmoid(x))"
   ]
  },
  {
   "cell_type": "code",
   "execution_count": 8,
   "metadata": {},
   "outputs": [],
   "source": [
    "def forwardProp(input_,weight):\n",
    "    \"\"\"\n",
    "    One step forward propagation.\n",
    "    \n",
    "    Arguments:\n",
    "    weight\n",
    "    input_\n",
    "    \"\"\"    \n",
    "    z = weight[:,0] + np.dot(weight[:,1:],input_)\n",
    "    a = sigmoid(z)\n",
    "    return z,a"
   ]
  },
  {
   "cell_type": "code",
   "execution_count": 11,
   "metadata": {},
   "outputs": [],
   "source": [
    "def calc_accuracy (theta_all, X):\n",
    "    \n",
    "    theta1 = theta_all[0:myNN.theta1.size].reshape(myNN.theta1.shape)\n",
    "    theta2 = theta_all[myNN.theta1.size: ].reshape(myNN.theta2.shape)\n",
    "\n",
    "    wrong_tot = 0\n",
    "    a3 = np.zeros((5000,k))\n",
    "    for i in xrange(5000):\n",
    "        dummy,a2 = forwardProp(X[i,:],theta1)\n",
    "        dummy,a3[i,:] = forwardProp(a2,theta2)\n",
    "    for i in xrange(0,5000):\n",
    "        index = np.floor(i/500)\n",
    "        c = np.argmax(a3[i,:])\n",
    "        if int(index) is 0:\n",
    "            if (int(c) is not 9): ## or k-1\n",
    "                wrong_tot = wrong_tot + 1\n",
    "        else:\n",
    "            if (int(c) is not int(index)-1):\n",
    "    #             print i,c,index\n",
    "                wrong_tot = wrong_tot + 1\n",
    "    print \"Accuracy is\", 1-float(wrong_tot)/5000\n",
    "    \n",
    "    return"
   ]
  },
  {
   "cell_type": "code",
   "execution_count": 12,
   "metadata": {},
   "outputs": [
    {
     "name": "stdout",
     "output_type": "stream",
     "text": [
      "Accuracy is 0.9752\n"
     ]
    }
   ],
   "source": [
    "calc_accuracy (theta_all, X)"
   ]
  },
  {
   "cell_type": "code",
   "execution_count": 13,
   "metadata": {},
   "outputs": [],
   "source": [
    "def cost_function_nn_regularized(theta_all, X, Y_, lambda_):\n",
    "    \"\"\"\n",
    "    Arguments:\n",
    "    \n",
    "    Y       -  The observed output (1D array)\n",
    "    lambda_ -  The regularization parameter\n",
    "    \"\"\"\n",
    "    num_observations = Y.shape[0]\n",
    "    theta1 = theta_all[0:myNN.theta1.size].reshape(myNN.theta1.shape)\n",
    "    theta2 = theta_all[myNN.theta1.size: ].reshape(myNN.theta2.shape)\n",
    "    \n",
    "    a3 = np.zeros((5000,k))\n",
    "    for i in xrange(5000):\n",
    "        dummy,a2 = forwardProp(X[i,:],theta1)\n",
    "        dummy,a3[i,:] = forwardProp(a2,theta2)\n",
    "    \n",
    "#     print \"a3 in cost = \", a3[0,:]\n",
    "    \n",
    "    return 1./num_observations * np.sum(-(Y_*np.log(a3))-((1.-Y_)*np.log(1.-a3))) + \\\n",
    "                                 lambda_/(2.*num_observations) * (np.sum(theta1[:,1:]**2.) + np.sum(theta2[:,1:]**2.))  "
   ]
  },
  {
   "cell_type": "code",
   "execution_count": 14,
   "metadata": {},
   "outputs": [],
   "source": [
    "def gradient_nn (theta_all, X, Y_, lambda_):\n",
    "    \n",
    "    num_observations = Y.shape[0]\n",
    "\n",
    "    delta3 = np.zeros((5000,10))\n",
    "    delta2 = np.zeros((5000,25))\n",
    "    Delta1 = np.zeros(myNN.theta1.shape)\n",
    "    Delta2 = np.zeros(myNN.theta2.shape)\n",
    "    \n",
    "    a2 = np.zeros((5000,25))\n",
    "    a3 = np.zeros((5000,10))  ## or k\n",
    "    z2 = np.zeros((5000,25))\n",
    "    z3 = np.zeros((5000,10))\n",
    "    \n",
    "    a1_ = np.concatenate((np.ones((5000,1)),X),axis=1)\n",
    "    \n",
    "    theta1 = theta_all[0:myNN.theta1.size].reshape(myNN.theta1.shape)\n",
    "    theta2 = theta_all[myNN.theta1.size: ].reshape(myNN.theta2.shape)\n",
    "    \n",
    "    for i in xrange(num_observations):\n",
    "        z2[i,:],a2[i,:] = forwardProp(X[i,:],theta1)\n",
    "        z3[i,:],a3[i,:] = forwardProp(a2[i,:],theta2)\n",
    "        a2_ = np.concatenate((np.ones((5000,1)),a2),axis=1)\n",
    "        delta3[i,:] = a3[i,:]-Y_[i,:]\n",
    "        delta2[i,:] = np.dot(theta2[:,1:].T,delta3[i,:])*sigmoid_prime(z2[i,:])\n",
    "        Delta1 = Delta1 + np.dot(delta2[i,:][:,None],a1_[i,:][:,None].T)\n",
    "        Delta2 = Delta2 + np.dot(delta3[i,:][:,None],a2_[i,:][:,None].T)\n",
    "        \n",
    "    Delta1 = Delta1/num_observations\n",
    "    Delta2 = Delta2/num_observations\n",
    "    \n",
    "    Delta1[:,1:] = Delta1[:,1:] + lambda_/num_observations * Delta1[:,1:]\n",
    "    Delta2[:,1:] = Delta2[:,1:] + lambda_/num_observations * Delta2[:,1:]\n",
    "        \n",
    "#     print \"a3 in gradient = \", a3[0,:]\n",
    "    \n",
    "    return np.append(Delta1.flatten(),Delta2.flatten())"
   ]
  },
  {
   "cell_type": "code",
   "execution_count": 15,
   "metadata": {},
   "outputs": [
    {
     "data": {
      "text/plain": [
       "array([-0.01933458,  0.        ,  0.        , ...,  0.19358526,\n",
       "        0.22540307,  0.16708017])"
      ]
     },
     "execution_count": 15,
     "metadata": {},
     "output_type": "execute_result"
    }
   ],
   "source": [
    "theta_all = np.append(myNN.theta1.flatten(),myNN.theta2.flatten())\n",
    "theta_all = np.random.uniform(-0.12,0.12,myNN.theta1.size+myNN.theta2.size)\n",
    "# print X\n",
    "cost_function_nn_regularized(theta_all, X, Y_, 0.)\n",
    "gradient_nn(theta_all,X,Y_,0.)"
   ]
  },
  {
   "cell_type": "code",
   "execution_count": 17,
   "metadata": {},
   "outputs": [],
   "source": [
    "def myOptimize3(num_iter,lambda_):\n",
    "    \"\"\"\n",
    "    This is using fmin_cg from python, much faster\n",
    "    \"\"\" \n",
    "    x0 = np.random.uniform(-0.12,0.12,myNN.theta1.size+myNN.theta2.size)\n",
    "#     print x0\n",
    "    theta1 = x0[0:myNN.theta1.size].reshape(myNN.theta1.shape)\n",
    "    theta2 = x0[myNN.theta1.size: ].reshape(myNN.theta2.shape)\n",
    "#     a3 = np.zeros((5000,k))\n",
    "#     for i in xrange(5000):\n",
    "#         dummy,a2 = forwardProp(X[i,:],theta1)\n",
    "#         dummy,a3[i,:] = forwardProp(a2,theta2)\n",
    "        \n",
    "#     print \"a3 in optimize = \", a3[0,:]\n",
    "\n",
    "#     print cost_function_nn_regularized(x0, a3, Y_, 0.)\n",
    "#     print gradient_nn(x0, a3, Y_, 0.)\n",
    "    \n",
    "    result = optimize.fmin_cg(cost_function_nn_regularized, x0=x0, fprime=gradient_nn, \\\n",
    "                              args=(X, Y_, lambda_), maxiter=num_iter, disp=False,\\\n",
    "                              full_output=True)\n",
    "#     print result[1]\n",
    "#     print gradient_nn(result[0], a3, Y_, 0.)\n",
    "    return result[0],result[1]"
   ]
  },
  {
   "cell_type": "code",
   "execution_count": 29,
   "metadata": {},
   "outputs": [],
   "source": [
    "a,b = myOptimize3(50,0.)"
   ]
  },
  {
   "cell_type": "code",
   "execution_count": 32,
   "metadata": {},
   "outputs": [
    {
     "name": "stdout",
     "output_type": "stream",
     "text": [
      "[-0.52183642 -0.01214162  0.04045423 ...,  1.58558673 -0.30238964\n",
      "  3.65893099] 0.23577168374\n",
      "Accuracy is 0.9702\n"
     ]
    }
   ],
   "source": [
    "print a,b\n",
    "calc_accuracy(a,X)"
   ]
  },
  {
   "cell_type": "code",
   "execution_count": null,
   "metadata": {},
   "outputs": [],
   "source": []
  }
 ],
 "metadata": {
  "anaconda-cloud": {},
  "celltoolbar": "Raw Cell Format",
  "kernelspec": {
   "display_name": "Python 2",
   "language": "python",
   "name": "python2"
  },
  "language_info": {
   "codemirror_mode": {
    "name": "ipython",
    "version": 2
   },
   "file_extension": ".py",
   "mimetype": "text/x-python",
   "name": "python",
   "nbconvert_exporter": "python",
   "pygments_lexer": "ipython2",
   "version": "2.7.14"
  },
  "latex_envs": {
   "bibliofile": "biblio.bib",
   "cite_by": "apalike",
   "current_citInitial": 1,
   "eqLabelWithNumbers": true,
   "eqNumInitial": 0
  },
  "nbpresent": {
   "slides": {},
   "themes": {
    "default": "010979b2-9edc-4853-97dc-d1a6fb9d6ba1",
    "theme": {
     "010979b2-9edc-4853-97dc-d1a6fb9d6ba1": {
      "id": "010979b2-9edc-4853-97dc-d1a6fb9d6ba1",
      "palette": {
       "19cc588f-0593-49c9-9f4b-e4d7cc113b1c": {
        "id": "19cc588f-0593-49c9-9f4b-e4d7cc113b1c",
        "rgb": [
         252,
         252,
         252
        ]
       },
       "31af15d2-7e15-44c5-ab5e-e04b16a89eff": {
        "id": "31af15d2-7e15-44c5-ab5e-e04b16a89eff",
        "rgb": [
         68,
         68,
         68
        ]
       },
       "50f92c45-a630-455b-aec3-788680ec7410": {
        "id": "50f92c45-a630-455b-aec3-788680ec7410",
        "rgb": [
         155,
         177,
         192
        ]
       },
       "c5cc3653-2ee1-402a-aba2-7caae1da4f6c": {
        "id": "c5cc3653-2ee1-402a-aba2-7caae1da4f6c",
        "rgb": [
         43,
         126,
         184
        ]
       },
       "efa7f048-9acb-414c-8b04-a26811511a21": {
        "id": "efa7f048-9acb-414c-8b04-a26811511a21",
        "rgb": [
         25.118061674008803,
         73.60176211453744,
         107.4819383259912
        ]
       }
      },
      "rules": {
       "blockquote": {
        "color": "50f92c45-a630-455b-aec3-788680ec7410"
       },
       "code": {
        "font-family": "Anonymous Pro"
       },
       "h1": {
        "color": "c5cc3653-2ee1-402a-aba2-7caae1da4f6c",
        "font-family": "Lato",
        "font-size": 8
       },
       "h2": {
        "color": "c5cc3653-2ee1-402a-aba2-7caae1da4f6c",
        "font-family": "Lato",
        "font-size": 6
       },
       "h3": {
        "color": "50f92c45-a630-455b-aec3-788680ec7410",
        "font-family": "Lato",
        "font-size": 5.5
       },
       "h4": {
        "color": "c5cc3653-2ee1-402a-aba2-7caae1da4f6c",
        "font-family": "Lato",
        "font-size": 5
       },
       "h5": {
        "font-family": "Lato"
       },
       "h6": {
        "font-family": "Lato"
       },
       "h7": {
        "font-family": "Lato"
       },
       "pre": {
        "font-family": "Anonymous Pro",
        "font-size": 4
       }
      },
      "text-base": {
       "font-family": "Merriweather",
       "font-size": 4
      }
     }
    }
   }
  }
 },
 "nbformat": 4,
 "nbformat_minor": 1
}
